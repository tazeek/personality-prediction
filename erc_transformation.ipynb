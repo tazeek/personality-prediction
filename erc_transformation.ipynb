{
 "cells": [
  {
   "cell_type": "code",
   "execution_count": 1,
   "metadata": {},
   "outputs": [
    {
     "name": "stderr",
     "output_type": "stream",
     "text": [
      "c:\\Users\\User\\anaconda3\\envs\\ml_projects\\lib\\site-packages\\tqdm\\auto.py:21: TqdmWarning: IProgress not found. Please update jupyter and ipywidgets. See https://ipywidgets.readthedocs.io/en/stable/user_install.html\n",
      "  from .autonotebook import tqdm as notebook_tqdm\n"
     ]
    }
   ],
   "source": [
    "from sota_list import LSTMNetwork\n",
    "from transformers import AutoTokenizer, AutoModelForSequenceClassification, AutoConfig\n",
    "\n",
    "import torch\n",
    "import codecs\n",
    "import json\n",
    "from pprint import pprint\n"
   ]
  },
  {
   "cell_type": "code",
   "execution_count": 2,
   "metadata": {},
   "outputs": [],
   "source": [
    "# Load the model weights\n",
    "model_weights_path = \"finetuned_saved_models/bilstm-bert-finetuned-segmented-extracted.pth\"\n",
    "\n",
    "# PML\n",
    "plm_name = 'bert-finetuned-segmented'"
   ]
  },
  {
   "cell_type": "code",
   "execution_count": 3,
   "metadata": {},
   "outputs": [],
   "source": [
    "def load_llm_parts(model_name):\n",
    "\n",
    "    # Load the config, model, and tokenizer\n",
    "    config = AutoConfig.from_pretrained(model_name, output_hidden_states =True)\n",
    "\n",
    "    return [\n",
    "        AutoModelForSequenceClassification.from_pretrained(model_name, config=config),\n",
    "        AutoTokenizer.from_pretrained(model_name)\n",
    "    ]\n",
    "\n",
    "\n",
    "\n",
    "# Initialize the model and load the weights\n",
    "model = LSTMNetwork(768,128,5,True)\n",
    "model.load_state_dict(torch.load(model_weights_path))\n",
    "model.eval()\n",
    "\n",
    "# Load the LLM fine-tuned model\n",
    "llm_model, tokenizer = load_llm_parts(plm_name)"
   ]
  },
  {
   "cell_type": "code",
   "execution_count": 38,
   "metadata": {},
   "outputs": [],
   "source": [
    "# Load the ERC datasets\n",
    "def load_dataset(name, type):\n",
    "    file_name = f'erc-datasets/{name}/{type}.json'\n",
    "    with codecs.open(file_name, 'r', 'utf-8') as fr:\n",
    "            return json.load(fr)\n",
    "\n",
    "    return None\n",
    "\n",
    "name = 'MELD'\n",
    "partition = 'train'\n",
    "\n",
    "dataset = load_dataset(name, partition)\n",
    "#pprint(dataset[0])"
   ]
  },
  {
   "cell_type": "code",
   "execution_count": 28,
   "metadata": {},
   "outputs": [],
   "source": [
    "def perform_classification(model, llm_model, tokenizer, text):\n",
    "\n",
    "    # Tokenize\n",
    "    token_ids = tokenizer(\n",
    "        text, \n",
    "        truncation = True, \n",
    "        return_tensors='pt', \n",
    "        max_length = 512, \n",
    "        add_special_tokens=True\n",
    "    )\n",
    "\n",
    "    # Extract CLS\n",
    "    cls_output = llm_model(**token_ids)\n",
    "    cls_output = cls_output.hidden_states[-1][0,0,:]\n",
    "    cls_output = cls_output.unsqueeze(0)\n",
    "\n",
    "    # Get the output\n",
    "    output = model.features_extraction(cls_output)\n",
    "\n",
    "    # Convert to labels\n",
    "    scores = model.single_classification(output)\n",
    "    scores = scores.detach().tolist()[0]\n",
    "\n",
    "    return [\n",
    "        int(score > 0.5)\n",
    "        for score in scores\n",
    "    ]\n"
   ]
  },
  {
   "cell_type": "code",
   "execution_count": null,
   "metadata": {},
   "outputs": [],
   "source": [
    "labels = ['extraverted', 'neurotic', 'agreeable', 'conscientious', 'open']\n",
    "\n",
    "for conversation in dataset:\n",
    "    \n",
    "    for utt_data in conversation:\n",
    "        scores = perform_classification(model, llm_model, tokenizer, utt_data['utterance'])\n",
    "        \n",
    "        # Get the string output\n",
    "        utt_data['personality'] = [\n",
    "            f'not {labels[i]}' if scores[i] == 0 else f'{labels[i]}'\n",
    "            for i in range(len(scores))\n",
    "        ]"
   ]
  },
  {
   "cell_type": "code",
   "execution_count": 42,
   "metadata": {},
   "outputs": [],
   "source": [
    "# Save the results\n",
    "new_file = f'erc-datasets/{name}/{partition}-personality.json'\n",
    "\n",
    "with codecs.open(new_file, \"w\", \"utf-8\") as fr:\n",
    "    json.dump(dataset, fr, ensure_ascii=False, indent=4)"
   ]
  }
 ],
 "metadata": {
  "kernelspec": {
   "display_name": "ml_projects",
   "language": "python",
   "name": "python3"
  },
  "language_info": {
   "codemirror_mode": {
    "name": "ipython",
    "version": 3
   },
   "file_extension": ".py",
   "mimetype": "text/x-python",
   "name": "python",
   "nbconvert_exporter": "python",
   "pygments_lexer": "ipython3",
   "version": "3.10.14"
  }
 },
 "nbformat": 4,
 "nbformat_minor": 2
}
