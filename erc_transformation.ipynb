{
 "cells": [
  {
   "cell_type": "code",
   "execution_count": 1,
   "metadata": {},
   "outputs": [
    {
     "name": "stderr",
     "output_type": "stream",
     "text": [
      "c:\\Users\\User\\anaconda3\\envs\\ml_projects\\lib\\site-packages\\tqdm\\auto.py:21: TqdmWarning: IProgress not found. Please update jupyter and ipywidgets. See https://ipywidgets.readthedocs.io/en/stable/user_install.html\n",
      "  from .autonotebook import tqdm as notebook_tqdm\n"
     ]
    }
   ],
   "source": [
    "from sota_list import LSTMNetwork\n",
    "from transformers import AutoTokenizer, AutoModelForSequenceClassification, AutoConfig\n",
    "\n",
    "import torch\n",
    "import codecs\n",
    "import json\n",
    "from pprint import pprint\n"
   ]
  },
  {
   "cell_type": "code",
   "execution_count": 2,
   "metadata": {},
   "outputs": [],
   "source": [
    "# Load the model weights\n",
    "model_weights_path = \"finetuned_saved_models/bilstm-bert-finetuned-segmented-extracted.pth\"\n",
    "\n",
    "# PML\n",
    "plm_name = 'bert-finetuned-segmented'"
   ]
  },
  {
   "cell_type": "code",
   "execution_count": 3,
   "metadata": {},
   "outputs": [],
   "source": [
    "def load_llm_parts(model_name):\n",
    "\n",
    "    # Load the config, model, and tokenizer\n",
    "    config = AutoConfig.from_pretrained(model_name, output_hidden_states =True)\n",
    "\n",
    "    return [\n",
    "        AutoModelForSequenceClassification.from_pretrained(model_name, config=config),\n",
    "        AutoTokenizer.from_pretrained(model_name)\n",
    "    ]\n",
    "\n",
    "\n",
    "\n",
    "# Initialize the model and load the weights\n",
    "model = LSTMNetwork(768,128,5,True)\n",
    "model.load_state_dict(torch.load(model_weights_path))\n",
    "model.eval()\n",
    "\n",
    "# Load the LLM fine-tuned model\n",
    "llm_model, tokenizer = load_llm_parts(plm_name)"
   ]
  },
  {
   "cell_type": "code",
   "execution_count": 4,
   "metadata": {},
   "outputs": [],
   "source": [
    "# Load the ERC datasets\n",
    "def load_dataset(name, type):\n",
    "    file_name = f'erc-datasets/{name}/{type}.json'\n",
    "    with codecs.open(file_name, 'r', 'utf-8') as fr:\n",
    "            return json.load(fr)\n",
    "\n",
    "    return None\n",
    "\n",
    "dataset = load_dataset('MELD','train')\n",
    "#pprint(dataset[0])"
   ]
  },
  {
   "cell_type": "code",
   "execution_count": 20,
   "metadata": {},
   "outputs": [],
   "source": [
    "def perform_classification(model, llm_model, tokenizer, text):\n",
    "\n",
    "    # Tokenize\n",
    "    token_ids = tokenizer(\n",
    "        text, \n",
    "        truncation = True, \n",
    "        return_tensors='pt', \n",
    "        max_length = 512, \n",
    "        add_special_tokens=True\n",
    "    )\n",
    "\n",
    "    # Extract CLS\n",
    "    cls_output = llm_model(**token_ids)\n",
    "    cls_output = cls_output.hidden_states[-1][0,0,:]\n",
    "    cls_output = cls_output.unsqueeze(0)\n",
    "\n",
    "    # Get the output\n",
    "    output = model.features_extraction(cls_output)\n",
    "\n",
    "    # Convert to labels\n",
    "    scores = model.single_classification(output)\n",
    "    scores = scores.detach().tolist()[0]\n",
    "    \n",
    "    print(scores)\n",
    "    scores = [\n",
    "        int(score > 0.5)\n",
    "        for score in scores\n",
    "    ]\n",
    "\n",
    "    print(scores)\n",
    "\n",
    "    # Return\n",
    "    return None"
   ]
  },
  {
   "cell_type": "code",
   "execution_count": 19,
   "metadata": {},
   "outputs": [
    {
     "name": "stdout",
     "output_type": "stream",
     "text": [
      "[7.884313163231127e-06, 0.07527997344732285, 0.02310573123395443, 0.9989839196205139, 0.07420559972524643]\n",
      "\n",
      "\n",
      "[0.2678419053554535, 0.7483342885971069, 0.5751084685325623, 0.8016932010650635, 0.08167696744203568]\n",
      "\n",
      "\n",
      "[0.9424228072166443, 0.8541322350502014, 0.11613670736551285, 0.27759191393852234, 0.9877989292144775]\n",
      "\n",
      "\n",
      "[0.1664925366640091, 0.0749460905790329, 0.006571900099515915, 0.7229515910148621, 0.0049364627338945866]\n",
      "\n",
      "\n",
      "[0.0015028807101771235, 0.790822446346283, 0.10240393877029419, 0.38755449652671814, 0.3447065055370331]\n",
      "\n",
      "\n",
      "[0.6118987202644348, 0.007421252783387899, 0.00021613996068481356, 0.015303430147469044, 0.9999113082885742]\n",
      "\n",
      "\n",
      "[0.6376124620437622, 0.848629891872406, 0.23508745431900024, 0.15853524208068848, 0.804473876953125]\n",
      "\n",
      "\n",
      "[0.0011138279223814607, 0.768426775932312, 0.0003301171527709812, 0.041243646293878555, 0.9970968961715698]\n",
      "\n",
      "\n",
      "[0.9402758479118347, 0.6949419975280762, 0.013996057212352753, 0.7318568825721741, 0.8844406008720398]\n",
      "\n",
      "\n",
      "[0.897058367729187, 5.484961002366617e-05, 0.9996002316474915, 0.999614953994751, 0.9998550415039062]\n",
      "\n",
      "\n",
      "[0.0016813682159408927, 0.997138500213623, 0.9610051512718201, 0.0031591812148690224, 0.8893870711326599]\n",
      "\n",
      "\n",
      "[0.0060315667651593685, 0.9976319074630737, 0.0005743267247453332, 0.02255648374557495, 0.982083797454834]\n",
      "\n",
      "\n",
      "[0.8855668306350708, 0.6762360334396362, 0.5640373826026917, 0.5127002000808716, 0.5738515853881836]\n",
      "\n",
      "\n",
      "[0.734353244304657, 0.7848430275917053, 0.46617114543914795, 0.7200098633766174, 0.813109278678894]\n",
      "\n",
      "\n"
     ]
    }
   ],
   "source": [
    "for conversation in dataset:\n",
    "    \n",
    "    for utt_data in conversation:\n",
    "        perform_classification(model, llm_model, tokenizer, utt_data['utterance'])\n",
    "        print(\"\\n\")\n",
    "    break"
   ]
  },
  {
   "cell_type": "code",
   "execution_count": null,
   "metadata": {},
   "outputs": [],
   "source": [
    "# Save the results"
   ]
  }
 ],
 "metadata": {
  "kernelspec": {
   "display_name": "ml_projects",
   "language": "python",
   "name": "python3"
  },
  "language_info": {
   "codemirror_mode": {
    "name": "ipython",
    "version": 3
   },
   "file_extension": ".py",
   "mimetype": "text/x-python",
   "name": "python",
   "nbconvert_exporter": "python",
   "pygments_lexer": "ipython3",
   "version": "3.10.14"
  }
 },
 "nbformat": 4,
 "nbformat_minor": 2
}
