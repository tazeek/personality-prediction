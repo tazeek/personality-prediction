{
 "cells": [
  {
   "cell_type": "code",
   "execution_count": 1,
   "metadata": {},
   "outputs": [
    {
     "name": "stderr",
     "output_type": "stream",
     "text": [
      "c:\\Users\\User\\anaconda3\\envs\\ml_projects\\lib\\site-packages\\tqdm\\auto.py:21: TqdmWarning: IProgress not found. Please update jupyter and ipywidgets. See https://ipywidgets.readthedocs.io/en/stable/user_install.html\n",
      "  from .autonotebook import tqdm as notebook_tqdm\n"
     ]
    }
   ],
   "source": [
    "from sota_list import LSTMNetwork\n",
    "from transformers import AutoTokenizer, AutoModelForSequenceClassification, AutoConfig\n",
    "\n",
    "import torch\n"
   ]
  },
  {
   "cell_type": "code",
   "execution_count": 2,
   "metadata": {},
   "outputs": [],
   "source": [
    "def load_llm_parts(model_name):\n",
    "\n",
    "    # Load the config, model, and tokenizer\n",
    "    config = AutoConfig.from_pretrained(model_name, output_hidden_states =True)\n",
    "\n",
    "    return [\n",
    "        AutoModelForSequenceClassification.from_pretrained(model_name, config=config),\n",
    "        AutoTokenizer.from_pretrained(model_name)\n",
    "    ]\n",
    "\n",
    "# Load the model weights\n",
    "model_weights_path = \"finetuned_saved_models/bilstm-bert-finetuned-segmented-extracted.pth\"\n",
    "\n",
    "# Initialize the model and load the weights\n",
    "model = LSTMNetwork(768,128,5,True)\n",
    "model.load_state_dict(torch.load(model_weights_path))\n",
    "model.eval()\n",
    "\n",
    "# Load the LLM fine-tuned model\n",
    "llm_model, tokenizer = load_llm_parts('bert-finetuned-segmented')"
   ]
  },
  {
   "cell_type": "code",
   "execution_count": 1,
   "metadata": {},
   "outputs": [],
   "source": [
    "# Load the ERC datasets"
   ]
  },
  {
   "cell_type": "code",
   "execution_count": 2,
   "metadata": {},
   "outputs": [],
   "source": [
    "# Load the \n",
    "# - personality model \n",
    "# - the PLM"
   ]
  },
  {
   "cell_type": "code",
   "execution_count": 3,
   "metadata": {},
   "outputs": [],
   "source": [
    "# Process"
   ]
  },
  {
   "cell_type": "code",
   "execution_count": null,
   "metadata": {},
   "outputs": [],
   "source": [
    "# Save the results"
   ]
  }
 ],
 "metadata": {
  "kernelspec": {
   "display_name": "ml_projects",
   "language": "python",
   "name": "python3"
  },
  "language_info": {
   "codemirror_mode": {
    "name": "ipython",
    "version": 3
   },
   "file_extension": ".py",
   "mimetype": "text/x-python",
   "name": "python",
   "nbconvert_exporter": "python",
   "pygments_lexer": "ipython3",
   "version": "3.10.14"
  }
 },
 "nbformat": 4,
 "nbformat_minor": 2
}
