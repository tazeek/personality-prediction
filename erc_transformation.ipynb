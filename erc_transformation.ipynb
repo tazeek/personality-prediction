{
 "cells": [
  {
   "cell_type": "code",
   "execution_count": 6,
   "metadata": {},
   "outputs": [],
   "source": [
    "from sota_list import LSTMNetwork\n",
    "from transformers import AutoTokenizer, AutoModelForSequenceClassification, AutoConfig\n",
    "\n",
    "import torch\n",
    "import codecs\n",
    "import json\n",
    "from pprint import pprint\n"
   ]
  },
  {
   "cell_type": "code",
   "execution_count": null,
   "metadata": {},
   "outputs": [],
   "source": [
    "# Load the model weights\n",
    "model_weights_path = \"finetuned_saved_models/bilstm-bert-finetuned-segmented-extracted.pth\"\n",
    "\n",
    "# PML\n",
    "plm_name = 'bert-finetuned-segmented'"
   ]
  },
  {
   "cell_type": "code",
   "execution_count": null,
   "metadata": {},
   "outputs": [],
   "source": [
    "def load_llm_parts(model_name):\n",
    "\n",
    "    # Load the config, model, and tokenizer\n",
    "    config = AutoConfig.from_pretrained(model_name, output_hidden_states =True)\n",
    "\n",
    "    return [\n",
    "        AutoModelForSequenceClassification.from_pretrained(model_name, config=config),\n",
    "        AutoTokenizer.from_pretrained(model_name)\n",
    "    ]\n",
    "\n",
    "\n",
    "\n",
    "# Initialize the model and load the weights\n",
    "model = LSTMNetwork(768,128,5,True)\n",
    "model.load_state_dict(torch.load(model_weights_path))\n",
    "model.eval()\n",
    "\n",
    "# Load the LLM fine-tuned model\n",
    "llm_model, tokenizer = load_llm_parts(plm_name)"
   ]
  },
  {
   "cell_type": "code",
   "execution_count": 7,
   "metadata": {},
   "outputs": [
    {
     "name": "stdout",
     "output_type": "stream",
     "text": [
      "[{'emotion': 'neutral',\n",
      "  'sentiment': '0',\n",
      "  'speaker': 'Chandler',\n",
      "  'utterance': \"also I was the point person on my company's transition from \"\n",
      "               'the KL-5 to GR-6 system.'},\n",
      " {'emotion': 'neutral',\n",
      "  'sentiment': '0',\n",
      "  'speaker': 'The Interviewer',\n",
      "  'utterance': \"You must've had your hands full.\"},\n",
      " {'emotion': 'neutral',\n",
      "  'sentiment': '0',\n",
      "  'speaker': 'Chandler',\n",
      "  'utterance': 'That I did. That I did.'},\n",
      " {'emotion': 'neutral',\n",
      "  'sentiment': '0',\n",
      "  'speaker': 'The Interviewer',\n",
      "  'utterance': \"So let's talk a little bit about your duties.\"},\n",
      " {'emotion': 'surprise',\n",
      "  'sentiment': '1',\n",
      "  'speaker': 'Chandler',\n",
      "  'utterance': 'My duties?  All right.'},\n",
      " {'emotion': 'neutral',\n",
      "  'sentiment': '0',\n",
      "  'speaker': 'The Interviewer',\n",
      "  'utterance': \"Now you'll be heading a whole division, so you'll have a lot \"\n",
      "               'of duties.'},\n",
      " {'emotion': 'neutral',\n",
      "  'sentiment': '0',\n",
      "  'speaker': 'Chandler',\n",
      "  'utterance': 'I see.'},\n",
      " {'emotion': 'neutral',\n",
      "  'sentiment': '0',\n",
      "  'speaker': 'The Interviewer',\n",
      "  'utterance': \"But there'll be perhaps 30 people under you so you can dump a \"\n",
      "               'certain amount on them.'},\n",
      " {'emotion': 'neutral',\n",
      "  'sentiment': '0',\n",
      "  'speaker': 'Chandler',\n",
      "  'utterance': 'Good to know.'},\n",
      " {'emotion': 'neutral',\n",
      "  'sentiment': '0',\n",
      "  'speaker': 'The Interviewer',\n",
      "  'utterance': 'We can go into detail'},\n",
      " {'emotion': 'fear',\n",
      "  'sentiment': '2',\n",
      "  'speaker': 'Chandler',\n",
      "  'utterance': \"No don't I beg of you!\"},\n",
      " {'emotion': 'neutral',\n",
      "  'sentiment': '0',\n",
      "  'speaker': 'The Interviewer',\n",
      "  'utterance': \"All right then, we'll have a definite answer for you on \"\n",
      "               \"Monday, but I think I can say with some confidence, you'll fit \"\n",
      "               'in well here.'},\n",
      " {'emotion': 'surprise',\n",
      "  'sentiment': '1',\n",
      "  'speaker': 'Chandler',\n",
      "  'utterance': 'Really?!'},\n",
      " {'emotion': 'neutral',\n",
      "  'sentiment': '0',\n",
      "  'speaker': 'The Interviewer',\n",
      "  'utterance': 'Absolutely.  You can relax'}]\n"
     ]
    }
   ],
   "source": [
    "# Load the ERC datasets\n",
    "def load_dataset(name, type):\n",
    "    file_name = f'erc-datasets/{name}/{type}.json'\n",
    "    with codecs.open(file_name, 'r', 'utf-8') as fr:\n",
    "            return json.load(fr)\n",
    "\n",
    "    return None\n",
    "\n",
    "train_meld = load_dataset('MELD','train')\n",
    "pprint(train_meld[0])"
   ]
  },
  {
   "cell_type": "code",
   "execution_count": null,
   "metadata": {},
   "outputs": [],
   "source": []
  },
  {
   "cell_type": "code",
   "execution_count": null,
   "metadata": {},
   "outputs": [],
   "source": [
    "# Save the results"
   ]
  }
 ],
 "metadata": {
  "kernelspec": {
   "display_name": "ml_projects",
   "language": "python",
   "name": "python3"
  },
  "language_info": {
   "codemirror_mode": {
    "name": "ipython",
    "version": 3
   },
   "file_extension": ".py",
   "mimetype": "text/x-python",
   "name": "python",
   "nbconvert_exporter": "python",
   "pygments_lexer": "ipython3",
   "version": "3.10.14"
  }
 },
 "nbformat": 4,
 "nbformat_minor": 2
}
