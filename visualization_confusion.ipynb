{
 "cells": [
  {
   "cell_type": "code",
   "execution_count": 2,
   "metadata": {},
   "outputs": [],
   "source": [
    "import numpy as np\n",
    "import plotly.express as px\n",
    "import pickle"
   ]
  },
  {
   "cell_type": "code",
   "execution_count": 3,
   "metadata": {},
   "outputs": [],
   "source": [
    "def open_file(file_name):\n",
    "\n",
    "    file = []\n",
    "    with open(file_name, 'rb') as f:\n",
    "        file = pickle.load(f)\n",
    "\n",
    "    return file"
   ]
  },
  {
   "cell_type": "code",
   "execution_count": null,
   "metadata": {},
   "outputs": [
    {
     "name": "stdout",
     "output_type": "stream",
     "text": [
      "{'EXT': array([[36.47321429, 11.78571429],\n",
      "       [ 9.77678571, 41.96428571]]), 'NEU': array([[38.4375    , 11.29464286],\n",
      "       [ 9.86607143, 40.40178571]]), 'AGR': array([[33.08035714, 13.92857143],\n",
      "       [11.07142857, 41.91964286]]), 'CON': array([[36.5625    , 12.72321429],\n",
      "       [11.47321429, 39.24107143]]), 'OPN': array([[38.92857143,  9.64285714],\n",
      "       [10.35714286, 41.07142857]])}\n"
     ]
    }
   ],
   "source": [
    "llm_part = 'roberta-finetuned-segmented-extracted'\n",
    "\n",
    "location_llm = f\"confusion_matrixes/plain-{llm_part}-confusion_matrix.pkl\"\n",
    "location_rnn = f\"confusion_matrixes/lstm-{llm_part}-confusion_matrix.pkl\"\n",
    "\n",
    "cm_base = open_file(location_llm)\n",
    "cm_rnn = open_file(location_rnn)"
   ]
  },
  {
   "cell_type": "code",
   "execution_count": null,
   "metadata": {},
   "outputs": [],
   "source": []
  }
 ],
 "metadata": {
  "kernelspec": {
   "display_name": "ml_projects",
   "language": "python",
   "name": "python3"
  },
  "language_info": {
   "codemirror_mode": {
    "name": "ipython",
    "version": 3
   },
   "file_extension": ".py",
   "mimetype": "text/x-python",
   "name": "python",
   "nbconvert_exporter": "python",
   "pygments_lexer": "ipython3",
   "version": "3.10.14"
  }
 },
 "nbformat": 4,
 "nbformat_minor": 2
}
