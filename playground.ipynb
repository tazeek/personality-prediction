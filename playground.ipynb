{
 "cells": [
  {
   "cell_type": "code",
   "execution_count": 3,
   "id": "eefaf6b5-8d57-40d2-8412-3569af78d132",
   "metadata": {},
   "outputs": [],
   "source": [
    "from sklearn.model_selection import train_test_split\n",
    "\n",
    "import utils.dataset_processors as dataset_processors"
   ]
  },
  {
   "cell_type": "code",
   "execution_count": 4,
   "id": "8f4a1396-bc7e-4e46-8738-d45e0179a395",
   "metadata": {},
   "outputs": [
    {
     "name": "stdout",
     "output_type": "stream",
     "text": [
      "EXT :  EXT\n",
      "1    1275\n",
      "0    1192\n",
      "Name: count, dtype: int64\n",
      "NEU :  NEU\n",
      "1    1234\n",
      "0    1233\n",
      "Name: count, dtype: int64\n",
      "AGR :  AGR\n",
      "1    1309\n",
      "0    1158\n",
      "Name: count, dtype: int64\n",
      "CON :  CON\n",
      "1    1254\n",
      "0    1213\n",
      "Name: count, dtype: int64\n",
      "OPN :  OPN\n",
      "1    1271\n",
      "0    1196\n",
      "Name: count, dtype: int64\n",
      "\n",
      "\n",
      "\n"
     ]
    }
   ],
   "source": [
    "# Load the dataset\n",
    "datafile = \"data/essays/essays.csv\"\n",
    "dataset = dataset_processors.load_essays_df(datafile)\n",
    "\n",
    "# Split the dataset (6:2:2)\n",
    "train_data, temp_data = train_test_split(dataset, train_size=0.6, random_state=42)\n",
    "validation_data, test_data = train_test_split(temp_data, train_size=0.2, random_state=42)"
   ]
  },
  {
   "cell_type": "code",
   "execution_count": 11,
   "id": "0d646203-60e5-4367-b86b-cadb4f37e9fc",
   "metadata": {},
   "outputs": [
    {
     "name": "stdout",
     "output_type": "stream",
     "text": [
      "dict_keys(['user', 'text', 'token_len', 'EXT', 'NEU', 'AGR', 'CON', 'OPN'])\n"
     ]
    }
   ],
   "source": [
    "# Convert from Dataframe to list of dictionary\n",
    "x_train = train_data.to_dict('records')\n",
    "x_test = test_data.to_dict('records')\n",
    "x_val = validation_data.to_dict('records')\n",
    "\n",
    "print(x_train[0].keys())"
   ]
  },
  {
   "cell_type": "code",
   "execution_count": 14,
   "id": "450fd91c-f0f7-4b5f-bf02-b353a7441d4f",
   "metadata": {},
   "outputs": [
    {
     "data": {
      "text/plain": [
       "['EXT', 'NEU', 'AGR', 'CON', 'OPN']"
      ]
     },
     "execution_count": 14,
     "metadata": {},
     "output_type": "execute_result"
    }
   ],
   "source": [
    "# Get the Big 5 labels\n",
    "labels = [label for label in x_train[0].keys() if label not in ['user','text','token_len']]\n",
    "\n",
    "# Forward and backward mapping\n",
    "id2label = {idx:label for idx,label in enumerate(labels)}\n",
    "label2id = {label:idx for idx,label in enumerate(labels)}\n",
    "\n",
    "labels"
   ]
  },
  {
   "cell_type": "code",
   "execution_count": null,
   "id": "0deb5f7c-f394-4465-929e-e1461454c96c",
   "metadata": {},
   "outputs": [],
   "source": []
  },
  {
   "cell_type": "code",
   "execution_count": null,
   "id": "8ded205d-e53b-44a9-ab57-188113e2a2fc",
   "metadata": {},
   "outputs": [],
   "source": []
  },
  {
   "cell_type": "code",
   "execution_count": null,
   "id": "1fef2364-a4e1-4a29-a59e-1a63117fa6ec",
   "metadata": {},
   "outputs": [],
   "source": []
  },
  {
   "cell_type": "code",
   "execution_count": null,
   "id": "5a27c08f-62be-4ad9-a122-6315219f314b",
   "metadata": {},
   "outputs": [],
   "source": []
  },
  {
   "cell_type": "code",
   "execution_count": null,
   "id": "d50dae2b-2141-48cc-9223-4b2d593db6e2",
   "metadata": {},
   "outputs": [],
   "source": []
  },
  {
   "cell_type": "code",
   "execution_count": null,
   "id": "09a9ad32-4abf-45a6-b64d-5c0d2764dba1",
   "metadata": {},
   "outputs": [],
   "source": []
  },
  {
   "cell_type": "markdown",
   "id": "1b597fd9-5b13-4c6a-9c00-3a612cd13d97",
   "metadata": {},
   "source": [
    "# Feature evaluation"
   ]
  },
  {
   "cell_type": "code",
   "execution_count": 1,
   "id": "d29ac417",
   "metadata": {},
   "outputs": [],
   "source": [
    "import json\n",
    "import codecs\n",
    "import pickle"
   ]
  },
  {
   "cell_type": "code",
   "execution_count": 4,
   "id": "d41be199",
   "metadata": {},
   "outputs": [
    {
     "name": "stdout",
     "output_type": "stream",
     "text": [
      "{'act': '3',\n",
      " 'personality_features': {'AGR': array([0.        , 2.0080483 , 2.4016094 , 0.        , 0.41861817,\n",
      "       0.        , 0.5901311 , 0.        , 0.        , 0.        ,\n",
      "       1.2648318 , 0.        , 0.5507349 , 0.        , 0.        ,\n",
      "       0.        , 2.3315444 , 0.        , 0.94451207, 0.04680952,\n",
      "       0.        , 0.61699086, 1.1855582 , 2.313045  , 0.        ,\n",
      "       0.7509485 , 0.        , 0.745355  , 0.6079138 , 1.8577148 ,\n",
      "       0.        , 1.2509583 , 0.        , 0.        , 0.46775097,\n",
      "       0.        , 0.        , 0.        , 2.2193878 , 0.        ,\n",
      "       0.        , 0.        , 3.4431014 , 0.25628236, 0.        ,\n",
      "       0.        , 0.34821013, 0.0257862 , 0.        , 0.25395954],\n",
      "      dtype=float32),\n",
      "                          'CON': array([0.        , 0.49052936, 0.        , 1.0379113 , 0.9174472 ,\n",
      "       0.        , 0.        , 0.        , 0.        , 0.        ,\n",
      "       0.        , 0.2529782 , 0.        , 2.436219  , 2.4117799 ,\n",
      "       0.        , 1.1128403 , 0.5441185 , 0.        , 0.37795806,\n",
      "       0.        , 0.        , 1.6880866 , 0.52230585, 1.5570676 ,\n",
      "       0.        , 0.        , 0.        , 0.        , 0.17902926,\n",
      "       2.0194635 , 0.        , 0.65954924, 0.        , 2.3373344 ,\n",
      "       0.        , 0.        , 0.        , 1.0697345 , 0.        ,\n",
      "       0.5727898 , 0.        , 0.        , 0.        , 0.        ,\n",
      "       2.9247332 , 0.        , 0.        , 0.        , 0.        ],\n",
      "      dtype=float32),\n",
      "                          'EXT': array([0.        , 0.7457206 , 0.08684319, 1.7395672 , 0.        ,\n",
      "       0.4622275 , 0.57988507, 0.        , 0.        , 0.        ,\n",
      "       0.68785095, 0.        , 0.        , 0.        , 0.        ,\n",
      "       0.13757186, 0.        , 0.        , 0.        , 0.40237957,\n",
      "       0.        , 1.0017742 , 0.8341083 , 0.        , 0.        ,\n",
      "       0.        , 0.        , 0.22418393, 0.        , 0.        ,\n",
      "       0.4765434 , 0.        , 1.1991717 , 0.        , 0.        ,\n",
      "       0.        , 2.7512798 , 0.        , 1.6802782 , 1.6999208 ,\n",
      "       0.4736276 , 0.        , 0.89921504, 0.        , 0.        ,\n",
      "       0.        , 0.        , 0.41806918, 0.        , 0.        ],\n",
      "      dtype=float32),\n",
      "                          'NEU': array([0.        , 0.7457206 , 0.08684319, 1.7395672 , 0.        ,\n",
      "       0.4622275 , 0.57988507, 0.        , 0.        , 0.        ,\n",
      "       0.68785095, 0.        , 0.        , 0.        , 0.        ,\n",
      "       0.13757186, 0.        , 0.        , 0.        , 0.40237957,\n",
      "       0.        , 1.0017742 , 0.8341083 , 0.        , 0.        ,\n",
      "       0.        , 0.        , 0.22418393, 0.        , 0.        ,\n",
      "       0.4765434 , 0.        , 1.1991717 , 0.        , 0.        ,\n",
      "       0.        , 2.7512798 , 0.        , 1.6802782 , 1.6999208 ,\n",
      "       0.4736276 , 0.        , 0.89921504, 0.        , 0.        ,\n",
      "       0.        , 0.        , 0.41806918, 0.        , 0.        ],\n",
      "      dtype=float32),\n",
      "                          'OPN': array([0.        , 0.49052936, 0.        , 1.0379113 , 0.9174472 ,\n",
      "       0.        , 0.        , 0.        , 0.        , 0.        ,\n",
      "       0.        , 0.2529782 , 0.        , 2.436219  , 2.4117799 ,\n",
      "       0.        , 1.1128403 , 0.5441185 , 0.        , 0.37795806,\n",
      "       0.        , 0.        , 1.6880866 , 0.52230585, 1.5570676 ,\n",
      "       0.        , 0.        , 0.        , 0.        , 0.17902926,\n",
      "       2.0194635 , 0.        , 0.65954924, 0.        , 2.3373344 ,\n",
      "       0.        , 0.        , 0.        , 1.0697345 , 0.        ,\n",
      "       0.5727898 , 0.        , 0.        , 0.        , 0.        ,\n",
      "       2.9247332 , 0.        , 0.        , 0.        , 0.        ],\n",
      "      dtype=float32),\n",
      "                          'arousal': array([ 0.        ,  0.25093317,  0.67098224, -0.8358666 ,  0.26320255,\n",
      "       -0.26346967, -0.15349515,  0.        ,  0.        ,  0.        ,\n",
      "       -0.01262549,  0.03794673,  0.16522047,  0.36543286,  0.361767  ,\n",
      "       -0.07841596,  0.8663894 ,  0.08161778,  0.28335363, -0.15861979,\n",
      "        0.        , -0.38591403,  0.1334388 ,  0.7722594 ,  0.23356016,\n",
      "        0.22528456,  0.        ,  0.09582168,  0.18237415,  0.58416885,\n",
      "        0.03128982,  0.3752875 , -0.58459544,  0.        ,  0.4909255 ,\n",
      "        0.        , -1.5682294 ,  0.        , -0.131482  , -0.9689548 ,\n",
      "       -0.18404926,  0.        ,  0.52037793,  0.07688471,  0.        ,\n",
      "        0.43871   ,  0.10446304, -0.23056357,  0.        ,  0.07618786],\n",
      "      dtype=float32),\n",
      "                          'dominance': array([ 0.        ,  0.01087928, -0.7164091 ,  1.4796631 ,  0.25137   ,\n",
      "        0.2773365 ,  0.1590891 ,  0.        ,  0.        ,  0.        ,\n",
      "        0.0079644 ,  0.10625085, -0.17623515,  1.023212  ,  1.0129476 ,\n",
      "        0.08254312, -0.27870125,  0.22852978, -0.30224386,  0.3851911 ,\n",
      "        0.        ,  0.40362749,  0.83008283, -0.52080595,  0.6539684 ,\n",
      "       -0.24030352,  0.        , -0.10400324, -0.19453241, -0.51927644,\n",
      "        1.1341007 , -0.40030664,  0.9965137 ,  0.        ,  0.83200014,\n",
      "        0.        ,  1.6507679 ,  0.        ,  0.74725133,  1.0199525 ,\n",
      "        0.52474827,  0.        , -0.5622634 , -0.08201035,  0.        ,\n",
      "        1.228388  , -0.11142724,  0.24258995,  0.        , -0.08126705],\n",
      "      dtype=float32),\n",
      "                          'valence': array([0.        , 1.4830366 , 1.4516869 , 0.6958269 , 0.2469847 ,\n",
      "       0.18489099, 0.58013135, 0.        , 0.        , 0.        ,\n",
      "       1.021391  , 0.        , 0.32493356, 0.        , 0.        ,\n",
      "       0.05502874, 1.3756112 , 0.        , 0.5572621 , 0.18856946,\n",
      "       0.        , 0.76473427, 1.0331225 , 1.3646965 , 0.        ,\n",
      "       0.4430596 , 0.        , 0.529433  , 0.35866913, 1.0960517 ,\n",
      "       0.19061735, 0.73806536, 0.47966868, 0.        , 0.27597305,\n",
      "       0.        , 1.1005119 , 0.        , 1.98155   , 0.6799683 ,\n",
      "       0.18945104, 0.        , 2.3911157 , 0.15120658, 0.        ,\n",
      "       0.        , 0.20544396, 0.18244153, 0.        , 0.14983612],\n",
      "      dtype=float32)},\n",
      " 'sentiment': '0',\n",
      " 'utterance': 'say , jim , how about going for a few beers after dinner ?'}\n"
     ]
    }
   ],
   "source": [
    "dataset = []\n",
    "\n",
    "from pprint import pprint\n",
    "\n",
    "with open('train_dataset_vad.pkl','rb') as file:\n",
    "    dataset = pickle.load(file)\n",
    "\n",
    "pprint(dataset[0][0])"
   ]
  },
  {
   "cell_type": "code",
   "execution_count": 6,
   "id": "a05d0963-d6ec-448b-976c-4e08cf2f14ac",
   "metadata": {},
   "outputs": [],
   "source": [
    "file_directory = 'dataset_erc\\dailydialogue\\dev.json'\n",
    "\n",
    "train_file = []\n",
    "\n",
    "with codecs.open(file_directory, \"r\", \"utf-8\") as f:\n",
    "    train_file = json.load(f)"
   ]
  },
  {
   "cell_type": "code",
   "execution_count": 10,
   "id": "8c22aedd-780c-4733-a170-8d952e925296",
   "metadata": {},
   "outputs": [
    {
     "name": "stdout",
     "output_type": "stream",
     "text": [
      "[{'utterance': 'good morning , sir . is there a bank near here ?', 'sentiment': '0', 'act': '2'}, {'utterance': 'there is one . 5 blocks away from here ?', 'sentiment': '0', 'act': '1'}, {'utterance': \"well , that's too far.can you change some money for me ?\", 'sentiment': '0', 'act': '3'}, {'utterance': 'surely , of course . what kind of currency have you got ?', 'sentiment': '0', 'act': '2'}, {'utterance': 'rib .', 'sentiment': '0', 'act': '1'}, {'utterance': 'how much would you like to change ?', 'sentiment': '0', 'act': '2'}, {'utterance': '1000 yuan.here you are .', 'sentiment': '0', 'act': '1'}]\n"
     ]
    }
   ],
   "source": [
    "print(train_file[0])"
   ]
  },
  {
   "cell_type": "code",
   "execution_count": 16,
   "id": "4b15e3db-89ff-43eb-b525-2773e68215e7",
   "metadata": {},
   "outputs": [
    {
     "name": "stdout",
     "output_type": "stream",
     "text": [
      "[{'utterance': 'good morning , sir . is there a bank near here ?', 'sentiment': '0', 'act': '2', 'personality_features': 5}, {'utterance': 'there is one . 5 blocks away from here ?', 'sentiment': '0', 'act': '1', 'personality_features': 5}, {'utterance': \"well , that's too far.can you change some money for me ?\", 'sentiment': '0', 'act': '3', 'personality_features': 5}, {'utterance': 'surely , of course . what kind of currency have you got ?', 'sentiment': '0', 'act': '2', 'personality_features': 5}, {'utterance': 'rib .', 'sentiment': '0', 'act': '1', 'personality_features': 5}, {'utterance': 'how much would you like to change ?', 'sentiment': '0', 'act': '2', 'personality_features': 5}, {'utterance': '1000 yuan.here you are .', 'sentiment': '0', 'act': '1', 'personality_features': 5}]\n",
      "\n",
      "\n",
      "\n",
      "[{'utterance': 'good morning , sir . is there a bank near here ?', 'sentiment': '0', 'act': '2', 'personality_features': 5}, {'utterance': 'there is one . 5 blocks away from here ?', 'sentiment': '0', 'act': '1', 'personality_features': 5}, {'utterance': \"well , that's too far.can you change some money for me ?\", 'sentiment': '0', 'act': '3', 'personality_features': 5}, {'utterance': 'surely , of course . what kind of currency have you got ?', 'sentiment': '0', 'act': '2', 'personality_features': 5}, {'utterance': 'rib .', 'sentiment': '0', 'act': '1', 'personality_features': 5}, {'utterance': 'how much would you like to change ?', 'sentiment': '0', 'act': '2', 'personality_features': 5}, {'utterance': '1000 yuan.here you are .', 'sentiment': '0', 'act': '1', 'personality_features': 5}]\n"
     ]
    }
   ],
   "source": [
    "def get_personality():\n",
    "    return 5\n",
    "\n",
    "def iterate_conversation(conversation_list):\n",
    "    conversation_with_personality = []\n",
    "\n",
    "    for conversation in conversation_list:\n",
    "        personality_features = get_personality()\n",
    "\n",
    "        conversation['personality_features'] = personality_features\n",
    "        conversation_with_personality.append(conversation)\n",
    "        \n",
    "    return conversation_with_personality\n",
    "    \n",
    "\n",
    "train_file_with_personality = []\n",
    "\n",
    "for conversation_list in train_file:\n",
    "    print(conversation_list)\n",
    "    print('\\n\\n')\n",
    "    conversation_with_personality = iterate_conversation(conversation_list)\n",
    "    print(conversation_with_personality)\n",
    "    break"
   ]
  }
 ],
 "metadata": {
  "kernelspec": {
   "display_name": "Python 3 (ipykernel)",
   "language": "python",
   "name": "python3"
  },
  "language_info": {
   "codemirror_mode": {
    "name": "ipython",
    "version": 3
   },
   "file_extension": ".py",
   "mimetype": "text/x-python",
   "name": "python",
   "nbconvert_exporter": "python",
   "pygments_lexer": "ipython3",
   "version": "3.9.18"
  }
 },
 "nbformat": 4,
 "nbformat_minor": 5
}
