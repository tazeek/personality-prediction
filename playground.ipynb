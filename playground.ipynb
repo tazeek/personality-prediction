{
 "cells": [
  {
   "cell_type": "code",
   "execution_count": 6,
   "id": "eefaf6b5-8d57-40d2-8412-3569af78d132",
   "metadata": {},
   "outputs": [],
   "source": [
    "from sklearn.model_selection import train_test_split\n",
    "from transformers import AutoTokenizer, AutoModelForSequenceClassification\n",
    "from datasets.dataset_dict import DatasetDict\n",
    "from datasets import Dataset\n",
    "\n",
    "import utils.dataset_processors as dataset_processors\n",
    "import numpy as np\n",
    "import pandas as pd\n",
    "import re"
   ]
  },
  {
   "cell_type": "code",
   "execution_count": 11,
   "id": "8fb33c60-2870-4925-a7a6-d021c3f6ff01",
   "metadata": {},
   "outputs": [
    {
     "name": "stdout",
     "output_type": "stream",
     "text": [
      "EXT :  EXT\n",
      "1    1275\n",
      "0    1192\n",
      "Name: count, dtype: int64\n",
      "NEU :  NEU\n",
      "1    1234\n",
      "0    1233\n",
      "Name: count, dtype: int64\n",
      "AGR :  AGR\n",
      "1    1309\n",
      "0    1158\n",
      "Name: count, dtype: int64\n",
      "CON :  CON\n",
      "1    1254\n",
      "0    1213\n",
      "Name: count, dtype: int64\n",
      "OPN :  OPN\n",
      "1    1271\n",
      "0    1196\n",
      "Name: count, dtype: int64\n",
      "\n",
      "\n",
      "\n"
     ]
    }
   ],
   "source": [
    "# Load the dataset\n",
    "datafile = \"data/essays/essays.csv\"\n",
    "dataset = dataset_processors.load_essays_df(datafile)\n",
    "\n",
    "# Split the dataset (6:2:2)\n",
    "train_data, temp_data = train_test_split(dataset, train_size=0.6, random_state=42)\n",
    "validation_data, test_data = train_test_split(temp_data, train_size=0.2, random_state=42)"
   ]
  },
  {
   "cell_type": "code",
   "execution_count": 9,
   "id": "454825b8-eb4a-499d-a7f7-2235941bd74a",
   "metadata": {},
   "outputs": [
    {
     "data": {
      "text/plain": [
       "['EXT', 'NEU', 'AGR', 'CON', 'OPN']"
      ]
     },
     "execution_count": 9,
     "metadata": {},
     "output_type": "execute_result"
    }
   ],
   "source": [
    "# Get the Big 5 labels\n",
    "column_names = list(train_data.columns)\n",
    "labels = [label for label in column_names if label not in ['user','text','token_len']]\n",
    "\n",
    "# Forward and backward mapping\n",
    "id2label = {idx:label for idx,label in enumerate(labels)}\n",
    "label2id = {label:idx for idx,label in enumerate(labels)}\n",
    "\n",
    "labels"
   ]
  },
  {
   "cell_type": "code",
   "execution_count": 12,
   "id": "4e431bf7-50f5-413f-95cc-3887aae33e83",
   "metadata": {},
   "outputs": [
    {
     "ename": "NameError",
     "evalue": "name 'trans' is not defined",
     "output_type": "error",
     "traceback": [
      "\u001b[1;31m---------------------------------------------------------------------------\u001b[0m",
      "\u001b[1;31mNameError\u001b[0m                                 Traceback (most recent call last)",
      "Cell \u001b[1;32mIn[12], line 32\u001b[0m\n\u001b[0;32m     28\u001b[0m         split_data\u001b[38;5;241m.\u001b[39mextend(split_text_with_labels(row))\n\u001b[0;32m     30\u001b[0m     \u001b[38;5;28;01mreturn\u001b[39;00m pd\u001b[38;5;241m.\u001b[39mDataFrame(split_data)\n\u001b[1;32m---> 32\u001b[0m train_data \u001b[38;5;241m=\u001b[39m \u001b[43mtransform_dataframe\u001b[49m\u001b[43m(\u001b[49m\u001b[43mtrain_data\u001b[49m\u001b[43m)\u001b[49m\n\u001b[0;32m     33\u001b[0m \u001b[38;5;28mprint\u001b[39m(train_data\u001b[38;5;241m.\u001b[39mhead(\u001b[38;5;241m20\u001b[39m))\n",
      "Cell \u001b[1;32mIn[12], line 28\u001b[0m, in \u001b[0;36mtransform_dataframe\u001b[1;34m(old_dataframe)\u001b[0m\n\u001b[0;32m     25\u001b[0m split_data \u001b[38;5;241m=\u001b[39m []\n\u001b[0;32m     27\u001b[0m \u001b[38;5;28;01mfor\u001b[39;00m index, row \u001b[38;5;129;01min\u001b[39;00m old_dataframe\u001b[38;5;241m.\u001b[39miterrows():\n\u001b[1;32m---> 28\u001b[0m     split_data\u001b[38;5;241m.\u001b[39mextend(\u001b[43msplit_text_with_labels\u001b[49m\u001b[43m(\u001b[49m\u001b[43mrow\u001b[49m\u001b[43m)\u001b[49m)\n\u001b[0;32m     30\u001b[0m \u001b[38;5;28;01mreturn\u001b[39;00m pd\u001b[38;5;241m.\u001b[39mDataFrame(split_data)\n",
      "Cell \u001b[1;32mIn[12], line 9\u001b[0m, in \u001b[0;36msplit_text_with_labels\u001b[1;34m(row)\u001b[0m\n\u001b[0;32m      6\u001b[0m \u001b[38;5;66;03m# Labels\u001b[39;00m\n\u001b[0;32m      7\u001b[0m row_labels \u001b[38;5;241m=\u001b[39m [row[label] \u001b[38;5;28;01mfor\u001b[39;00m label \u001b[38;5;129;01min\u001b[39;00m labels]\n\u001b[1;32m----> 9\u001b[0m \u001b[43mtrans\u001b[49m\n\u001b[0;32m     11\u001b[0m \u001b[38;5;28;01mreturn\u001b[39;00m [{\n\u001b[0;32m     12\u001b[0m     \u001b[38;5;124m'\u001b[39m\u001b[38;5;124mtext\u001b[39m\u001b[38;5;124m'\u001b[39m: sentence,\n\u001b[0;32m     13\u001b[0m     \u001b[38;5;124m'\u001b[39m\u001b[38;5;124mEXT\u001b[39m\u001b[38;5;124m'\u001b[39m: row[\u001b[38;5;124m'\u001b[39m\u001b[38;5;124mEXT\u001b[39m\u001b[38;5;124m'\u001b[39m],\n\u001b[1;32m   (...)\u001b[0m\n\u001b[0;32m     19\u001b[0m     \u001b[38;5;28;01mfor\u001b[39;00m sentence \u001b[38;5;129;01min\u001b[39;00m sentences       \n\u001b[0;32m     20\u001b[0m ]\n",
      "\u001b[1;31mNameError\u001b[0m: name 'trans' is not defined"
     ]
    }
   ],
   "source": [
    "# Convert from essay to sentences\n",
    "def split_text_with_labels(row):\n",
    "    \n",
    "    # Split sentences\n",
    "    sentences = re.split(r\"(?<!\\w\\.\\w.)(?<![A-Z][a-z]\\.)(?<=\\.|\\?|\\!)\\s\", row['text'])\n",
    "\n",
    "    return [{\n",
    "        'text': sentence,\n",
    "        'EXT': row['EXT'],\n",
    "        'NEU': row['NEU'],\n",
    "        'AGR': row['AGR'],\n",
    "        'CON': row['CON'],\n",
    "        'OPN': row['OPN']\n",
    "    }\n",
    "        for sentence in sentences       \n",
    "    ]\n",
    "\n",
    "def transform_dataframe(old_dataframe):\n",
    "\n",
    "    # Begin the split\n",
    "    split_data = []\n",
    "    \n",
    "    for index, row in old_dataframe.iterrows():\n",
    "        split_data.extend(split_text_with_labels(row))\n",
    "        \n",
    "    return pd.DataFrame(split_data)\n",
    "\n",
    "train_data = transform_dataframe(train_data)\n",
    "print(train_data.head(20))"
   ]
  },
  {
   "cell_type": "code",
   "execution_count": null,
   "id": "6b5610e2-b295-487c-a97d-1a219e3c3884",
   "metadata": {},
   "outputs": [],
   "source": [
    "# Convert to DatasetDict\n",
    "train_dataset = Dataset.from_dict(train_data)\n",
    "test_dataset = Dataset.from_dict(test_data)\n",
    "valid_dataset = Dataset.from_dict(validation_data)\n",
    "\n",
    "full_dataset_dict = DatasetDict({\n",
    "    \"train\": train_dataset,\n",
    "    \"test\": test_dataset,\n",
    "    \"valid\": valid_dataset\n",
    "})\n",
    "\n",
    "print(full_dataset_dict)"
   ]
  },
  {
   "cell_type": "code",
   "execution_count": null,
   "id": "450fd91c-f0f7-4b5f-bf02-b353a7441d4f",
   "metadata": {},
   "outputs": [],
   "source": []
  },
  {
   "cell_type": "code",
   "execution_count": null,
   "id": "0deb5f7c-f394-4465-929e-e1461454c96c",
   "metadata": {},
   "outputs": [],
   "source": [
    "tokenizer = AutoTokenizer.from_pretrained('bert-base-uncased')\n",
    "\n",
    "def preprocess_text(row):\n",
    "\n",
    "    # Extract the text\n",
    "    essays = row['text']\n",
    "\n",
    "    # Clean up\n",
    "    essays = [dataset_processors.preprocess_text(essay) for essay in essays]\n",
    "\n",
    "    # Encode them using the tokenizer\n",
    "    encoded_essay = tokenizer(essays, truncation = True)\n",
    "    \n",
    "    # Add the labels\n",
    "    labels_batch = {key: row[key] for key in row.keys() if key in labels}\n",
    "\n",
    "    # Create numpy array of batch and labels\n",
    "    labels_matrix = np.zeros((len(essays), len(labels)))\n",
    "\n",
    "    # Fill the array\n",
    "    for idx, label in enumerate(labels):\n",
    "        labels_matrix[:, idx] = labels_batch[label]\n",
    "\n",
    "    # Return the encoding\n",
    "    encoded_essay[\"labels\"] = labels_matrix.tolist()\n",
    "    \n",
    "    return encoded_essay\n",
    "\n",
    "# Perform the preprocessing\n",
    "full_dataset_dict = full_dataset_dict.map(\n",
    "    preprocess_text, batched = True, \n",
    "    remove_columns = full_dataset_dict['train'].column_names\n",
    ")"
   ]
  },
  {
   "cell_type": "code",
   "execution_count": null,
   "id": "8ded205d-e53b-44a9-ab57-188113e2a2fc",
   "metadata": {},
   "outputs": [],
   "source": [
    "#print(full_dataset_dict['train'][0].keys())\n",
    "#print(full_dataset_dict['train'][0])\n",
    "#print(full_dataset_dict['train'][0]['labels'])\n",
    "#tokenizer.decode(full_dataset_dict['train'][5]['input_ids'])\n",
    "#[id2label[idx] for idx, label in enumerate(full_dataset_dict['train'][5]['labels']) if label == 1.0]"
   ]
  },
  {
   "cell_type": "code",
   "execution_count": null,
   "id": "1fef2364-a4e1-4a29-a59e-1a63117fa6ec",
   "metadata": {},
   "outputs": [],
   "source": [
    "full_dataset_dict.set_format(\"torch\")"
   ]
  },
  {
   "cell_type": "code",
   "execution_count": null,
   "id": "e3adb46b-7470-4639-9406-a93ed62fb6c4",
   "metadata": {},
   "outputs": [],
   "source": [
    "model = AutoModelForSequenceClassification.from_pretrained(\n",
    "    \"bert-base-uncased\",\n",
    "    problem_type = \"multi_label_classification\",\n",
    "    num_labels = len(labels),\n",
    "    id2label = id2label,\n",
    "    label2id = label2id\n",
    ")"
   ]
  },
  {
   "cell_type": "code",
   "execution_count": null,
   "id": "5a27c08f-62be-4ad9-a122-6315219f314b",
   "metadata": {},
   "outputs": [],
   "source": [
    "from transformers import TrainingArguments, Trainer\n",
    "\n",
    "batch_size = 16\n",
    "learning_rate = 2e-5\n",
    "epochs = 10\n",
    "metric_name = \"accuracy\"\n",
    "\n",
    "print(learning_rate)"
   ]
  },
  {
   "cell_type": "code",
   "execution_count": null,
   "id": "d50dae2b-2141-48cc-9223-4b2d593db6e2",
   "metadata": {},
   "outputs": [],
   "source": [
    "args = TrainingArguments(\n",
    "    'bert-finetuned-personality-detection',\n",
    "    evaluation_strategy = \"epoch\",\n",
    "    save_strategy = \"no\",\n",
    "    learning_rate = learning_rate,\n",
    "    per_device_train_batch_size=batch_size,\n",
    "    per_device_eval_batch_size=batch_size,\n",
    "    num_train_epochs = epochs,\n",
    "    weight_decay = 0.01,\n",
    "    metric_for_best_model = metric_name\n",
    ")"
   ]
  },
  {
   "cell_type": "code",
   "execution_count": null,
   "id": "ac86ae5e-1fae-443f-95f5-c830d55220d5",
   "metadata": {},
   "outputs": [],
   "source": [
    "print(labels)"
   ]
  },
  {
   "cell_type": "code",
   "execution_count": null,
   "id": "09a9ad32-4abf-45a6-b64d-5c0d2764dba1",
   "metadata": {},
   "outputs": [],
   "source": [
    "from sklearn.metrics import accuracy_score\n",
    "import torch\n",
    "\n",
    "def multi_label_metrics(pred_logits, gold_labels):\n",
    "\n",
    "    # Our threshold\n",
    "    threshold = 0.5\n",
    "\n",
    "    # Apply sigmoid to logits\n",
    "    sigmoid = torch.nn.Sigmoid()\n",
    "    probs = sigmoid(torch.Tensor(pred_logits))\n",
    "\n",
    "    # Convert predictions to integer predictions\n",
    "    y_pred = np.zeros(probs.shape)\n",
    "    y_pred[np.where(probs >= threshold)] = 1\n",
    "\n",
    "    # Compute metrics\n",
    "    y_true = gold_labels\n",
    "\n",
    "    metrics = {\n",
    "        f\"{id2label[i]} - accuracy\": accuracy_score(y_true[:, i], y_pred[:, i]) \n",
    "        for i in range(len(labels))\n",
    "    }\n",
    "\n",
    "    overall_accuracy = accuracy_score(y_true, y_pred)\n",
    "\n",
    "    # Store and return as dictionary\n",
    "    metrics['accuracy'] = overall_accuracy\n",
    "    \n",
    "    return metrics\n",
    "\n",
    "def compute_metrics(p):\n",
    "\n",
    "    # Get the type of predictions\n",
    "    preds = p.predictions[0] if isinstance(p.predictions, tuple) else p.predictions\n",
    "\n",
    "    # Compute the results\n",
    "    results = multi_label_metrics(preds, p.label_ids)\n",
    "\n",
    "    return results"
   ]
  },
  {
   "cell_type": "code",
   "execution_count": null,
   "id": "b631b220-cfe4-4237-9399-f0cab6764532",
   "metadata": {},
   "outputs": [],
   "source": [
    "#full_dataset_dict['train'][0]['labels'].type()\n",
    "#full_dataset_dict['train']['input_ids'][0]"
   ]
  },
  {
   "cell_type": "code",
   "execution_count": null,
   "id": "79b0a251-1121-45eb-bc02-97c862854dbd",
   "metadata": {},
   "outputs": [],
   "source": [
    "# forward pass (testing)\n",
    "outputs = model(\n",
    "    input_ids=full_dataset_dict['train']['input_ids'][0].unsqueeze(0), \n",
    "    labels=full_dataset_dict['train'][0]['labels'].unsqueeze(0)\n",
    ")\n",
    "\n",
    "outputs"
   ]
  },
  {
   "cell_type": "code",
   "execution_count": null,
   "id": "47c47e55-bf4e-47f3-a8f5-5f02cb701f74",
   "metadata": {},
   "outputs": [],
   "source": [
    "# Initialize the trainer before training\n",
    "trainer = Trainer(\n",
    "    model,\n",
    "    args,\n",
    "    train_dataset=full_dataset_dict[\"train\"],\n",
    "    eval_dataset=full_dataset_dict[\"test\"],\n",
    "    tokenizer=tokenizer,\n",
    "    compute_metrics=compute_metrics\n",
    ")"
   ]
  },
  {
   "cell_type": "code",
   "execution_count": null,
   "id": "0f249eb1-2fef-4493-868f-91ae530a9e35",
   "metadata": {
    "scrolled": true
   },
   "outputs": [],
   "source": [
    "trainer.train()"
   ]
  },
  {
   "cell_type": "code",
   "execution_count": null,
   "id": "a2c753ad-e7a7-4b06-a603-c64cea740dc7",
   "metadata": {},
   "outputs": [],
   "source": [
    "trainer.save_model('fine-tuned-bert-personality')"
   ]
  },
  {
   "cell_type": "markdown",
   "id": "1b597fd9-5b13-4c6a-9c00-3a612cd13d97",
   "metadata": {},
   "source": [
    "# Feature evaluation"
   ]
  },
  {
   "cell_type": "code",
   "execution_count": null,
   "id": "d29ac417",
   "metadata": {},
   "outputs": [],
   "source": [
    "import json\n",
    "import codecs\n",
    "import pickle"
   ]
  },
  {
   "cell_type": "code",
   "execution_count": null,
   "id": "d41be199",
   "metadata": {},
   "outputs": [],
   "source": [
    "dataset = []\n",
    "\n",
    "from pprint import pprint\n",
    "\n",
    "with open('train_dataset_vad.pkl','rb') as file:\n",
    "    dataset = pickle.load(file)\n",
    "\n",
    "pprint(dataset[0][0])"
   ]
  },
  {
   "cell_type": "code",
   "execution_count": null,
   "id": "a05d0963-d6ec-448b-976c-4e08cf2f14ac",
   "metadata": {},
   "outputs": [],
   "source": [
    "file_directory = 'dataset_erc\\dailydialogue\\dev.json'\n",
    "\n",
    "train_file = []\n",
    "\n",
    "with codecs.open(file_directory, \"r\", \"utf-8\") as f:\n",
    "    train_file = json.load(f)"
   ]
  },
  {
   "cell_type": "code",
   "execution_count": null,
   "id": "8c22aedd-780c-4733-a170-8d952e925296",
   "metadata": {},
   "outputs": [],
   "source": [
    "print(train_file[0])"
   ]
  },
  {
   "cell_type": "code",
   "execution_count": null,
   "id": "4b15e3db-89ff-43eb-b525-2773e68215e7",
   "metadata": {},
   "outputs": [],
   "source": [
    "def get_personality():\n",
    "    return 5\n",
    "\n",
    "def iterate_conversation(conversation_list):\n",
    "    conversation_with_personality = []\n",
    "\n",
    "    for conversation in conversation_list:\n",
    "        personality_features = get_personality()\n",
    "\n",
    "        conversation['personality_features'] = personality_features\n",
    "        conversation_with_personality.append(conversation)\n",
    "        \n",
    "    return conversation_with_personality\n",
    "    \n",
    "\n",
    "train_file_with_personality = []\n",
    "\n",
    "for conversation_list in train_file:\n",
    "    print(conversation_list)\n",
    "    print('\\n\\n')\n",
    "    conversation_with_personality = iterate_conversation(conversation_list)\n",
    "    print(conversation_with_personality)\n",
    "    break"
   ]
  }
 ],
 "metadata": {
  "kernelspec": {
   "display_name": "Python 3 (ipykernel)",
   "language": "python",
   "name": "python3"
  },
  "language_info": {
   "codemirror_mode": {
    "name": "ipython",
    "version": 3
   },
   "file_extension": ".py",
   "mimetype": "text/x-python",
   "name": "python",
   "nbconvert_exporter": "python",
   "pygments_lexer": "ipython3",
   "version": "3.9.18"
  }
 },
 "nbformat": 4,
 "nbformat_minor": 5
}
