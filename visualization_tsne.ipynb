{
 "cells": [
  {
   "cell_type": "code",
   "execution_count": 12,
   "metadata": {},
   "outputs": [],
   "source": [
    "import matplotlib.pyplot as plt\n",
    "from sklearn.manifold import TSNE\n",
    "\n",
    "import pickle\n",
    "import torch"
   ]
  },
  {
   "cell_type": "code",
   "execution_count": 20,
   "metadata": {},
   "outputs": [],
   "source": [
    "person_labels = ['EXT', 'NEU', 'AGR', 'CON', 'OPN']"
   ]
  },
  {
   "cell_type": "code",
   "execution_count": null,
   "metadata": {},
   "outputs": [],
   "source": [
    "# Load the extracted data\n",
    "def load_data(file_name):\n",
    "    processed_data, input_samples, labels = [], [], []\n",
    "    with open(f'{file_name}.pkl', 'rb') as file:\n",
    "        data = pickle.load(file)\n",
    "        processed_data, input_samples, labels = list(zip(*data))\n",
    "\n",
    "    # Convert to numpy\n",
    "    processed_data = torch.stack(processed_data).numpy()\n",
    "    \n",
    "    return processed_data, labels\n"
   ]
  },
  {
   "cell_type": "code",
   "execution_count": 16,
   "metadata": {},
   "outputs": [],
   "source": [
    "llm = 'roberta'\n",
    "\n",
    "# Three comparisons: normal, fine-tuned, fine-tuned-segmented\n",
    "\n",
    "embeddings, labels = load_data(f'{llm}-normal')\n",
    "#fine_tuned = load_data(f'{llm}-finetuned-extracted')\n",
    "#segemnted_tuned = load_data(f'{llm}-finetuned-segmented-extracted')"
   ]
  },
  {
   "cell_type": "code",
   "execution_count": 18,
   "metadata": {},
   "outputs": [
    {
     "name": "stdout",
     "output_type": "stream",
     "text": [
      "[[ 19.272087 -51.727356]\n",
      " [-16.900948 -30.801046]\n",
      " [  4.944175 -37.876762]\n",
      " ...\n",
      " [ 21.519787  54.518856]\n",
      " [-11.910183 -20.165472]\n",
      " [ 32.718452 -44.42258 ]]\n"
     ]
    }
   ],
   "source": [
    "# Transformation time\n",
    "\n",
    "# Apply t-SNE for dimensionality reduction\n",
    "tsne = TSNE(n_components=2, random_state=42, perplexity=5)\n",
    "reduced_embeddings = tsne.fit_transform(embeddings)\n",
    "\n",
    "print(reduced_embeddings)"
   ]
  },
  {
   "cell_type": "code",
   "execution_count": 19,
   "metadata": {},
   "outputs": [
    {
     "ename": "NameError",
     "evalue": "name 'person_labels' is not defined",
     "output_type": "error",
     "traceback": [
      "\u001b[1;31m---------------------------------------------------------------------------\u001b[0m",
      "\u001b[1;31mNameError\u001b[0m                                 Traceback (most recent call last)",
      "Cell \u001b[1;32mIn[19], line 3\u001b[0m\n\u001b[0;32m      1\u001b[0m \u001b[38;5;66;03m# Visualize\u001b[39;00m\n\u001b[0;32m      2\u001b[0m \u001b[38;5;66;03m# Loop through each label and plot separately\u001b[39;00m\n\u001b[1;32m----> 3\u001b[0m \u001b[38;5;28;01mfor\u001b[39;00m i, label \u001b[38;5;129;01min\u001b[39;00m \u001b[38;5;28menumerate\u001b[39m(\u001b[43mperson_labels\u001b[49m):  \n\u001b[0;32m      4\u001b[0m     plt\u001b[38;5;241m.\u001b[39mfigure(figsize\u001b[38;5;241m=\u001b[39m(\u001b[38;5;241m6\u001b[39m, \u001b[38;5;241m4\u001b[39m))\n\u001b[0;32m      5\u001b[0m     plt\u001b[38;5;241m.\u001b[39mscatter(reduced_embeddings[:, \u001b[38;5;241m0\u001b[39m], reduced_embeddings[:, \u001b[38;5;241m1\u001b[39m], c\u001b[38;5;241m=\u001b[39mlabels[:, i], cmap\u001b[38;5;241m=\u001b[39m\u001b[38;5;124m'\u001b[39m\u001b[38;5;124mcoolwarm\u001b[39m\u001b[38;5;124m'\u001b[39m, alpha\u001b[38;5;241m=\u001b[39m\u001b[38;5;241m0.7\u001b[39m)\n",
      "\u001b[1;31mNameError\u001b[0m: name 'person_labels' is not defined"
     ]
    }
   ],
   "source": [
    "# Visualize\n",
    "# Loop through each label and plot separately\n",
    "for i, label in enumerate(person_labels):  \n",
    "    plt.figure(figsize=(6, 4))\n",
    "    plt.scatter(reduced_embeddings[:, 0], reduced_embeddings[:, 1], c=labels[:, i], cmap='coolwarm', alpha=0.7)\n",
    "    plt.colorbar(label=label)  # Show colorbar for clarity\n",
    "    plt.title(f'T-SNE for {label}')\n",
    "    plt.xlabel('t-SNE Dim 1')\n",
    "    plt.ylabel('t-SNE Dim 2')\n",
    "    plt.show()"
   ]
  }
 ],
 "metadata": {
  "kernelspec": {
   "display_name": "ml_projects",
   "language": "python",
   "name": "python3"
  },
  "language_info": {
   "codemirror_mode": {
    "name": "ipython",
    "version": 3
   },
   "file_extension": ".py",
   "mimetype": "text/x-python",
   "name": "python",
   "nbconvert_exporter": "python",
   "pygments_lexer": "ipython3",
   "version": "3.10.14"
  }
 },
 "nbformat": 4,
 "nbformat_minor": 2
}
