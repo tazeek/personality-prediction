{
 "cells": [
  {
   "cell_type": "code",
   "execution_count": 13,
   "id": "db878dec-2a72-43c1-9b4a-ad19e52ebd86",
   "metadata": {},
   "outputs": [],
   "source": [
    "from lime.lime_text import LimeTextExplainer\n",
    "from transformers import AutoTokenizer, AutoModelForSequenceClassification, AutoConfig\n",
    "from random import randrange\n",
    "import utils.dataset_processors as dataset_processors\n",
    "from sota_list import *"
   ]
  },
  {
   "cell_type": "code",
   "execution_count": 2,
   "id": "83787f14-212d-4a35-9e60-a21935172b55",
   "metadata": {},
   "outputs": [],
   "source": [
    "# Load the finetuned BERT model\n",
    "\n",
    "config = AutoConfig.from_pretrained('fine-tuned-bert-personality-sentence-segmentation', output_hidden_states =True)\n",
    "model = AutoModelForSequenceClassification.from_pretrained('fine-tuned-bert-personality-sentence-segmentation', config=config)\n",
    "tokenizer = AutoTokenizer.from_pretrained('fine-tuned-bert-personality-sentence-segmentation')"
   ]
  },
  {
   "cell_type": "code",
   "execution_count": 3,
   "id": "c72adb9e-8f65-43cc-8d67-895d9cf04af6",
   "metadata": {},
   "outputs": [
    {
     "name": "stdout",
     "output_type": "stream",
     "text": [
      "LSTMNetwork(\n",
      "  (lstm): LSTM(768, 128, batch_first=True)\n",
      "  (fc): Linear(in_features=128, out_features=5, bias=True)\n",
      ")\n"
     ]
    }
   ],
   "source": [
    "# Load the trained LSTM model\n",
    "model_type = 'lstm'\n",
    "train_type = 'segmented'\n",
    "file_name = f\"finetuned_saved_models/{model_type}_{train_type}.pth\"\n",
    "\n",
    "model = LSTMNetwork(768,128,5)\n",
    "model.load_state_dict(torch.load(f\"{file_name}\"))\n",
    "print(model)"
   ]
  },
  {
   "cell_type": "markdown",
   "id": "8bd2de82-c853-4555-a26d-0cceee5c2b14",
   "metadata": {},
   "source": [
    "# Essays\n",
    "\n",
    "- Pick the ones with less than 512 tokens\n",
    "- Check the gold labels\n",
    "- Check the predicted labels\n",
    "- Visualize"
   ]
  },
  {
   "cell_type": "code",
   "execution_count": 7,
   "id": "97ef3049-db78-4fa1-ad49-2e0af1494011",
   "metadata": {},
   "outputs": [
    {
     "name": "stdout",
     "output_type": "stream",
     "text": [
      "EXT :  EXT\n",
      "1    1275\n",
      "0    1192\n",
      "Name: count, dtype: int64\n",
      "NEU :  NEU\n",
      "1    1234\n",
      "0    1233\n",
      "Name: count, dtype: int64\n",
      "AGR :  AGR\n",
      "1    1309\n",
      "0    1158\n",
      "Name: count, dtype: int64\n",
      "CON :  CON\n",
      "1    1254\n",
      "0    1213\n",
      "Name: count, dtype: int64\n",
      "OPN :  OPN\n",
      "1    1271\n",
      "0    1196\n",
      "Name: count, dtype: int64\n",
      "\n",
      "\n",
      "\n",
      "              user                                               text  \\\n",
      "0  1997_971112.txt  alright. what can I talk about. well the only ...   \n",
      "1  1998_659134.txt  this job is going to drain me if I don't say s...   \n",
      "2  1998_045186.txt  I want to go to Mexico and dance I have not da...   \n",
      "3  1998_082105.txt  Is there a reason?  These questions have been ...   \n",
      "4  1999_973407.txt  For the past few days and now I have been thin...   \n",
      "5  2002_805223.txt       cold air quietness stress sad unreal comp...   \n",
      "6  1997_491971.txt  I hope I can finish this assignment in time be...   \n",
      "7  1998_494559.txt  I believe sometimes I think to much about what...   \n",
      "8  1997_953451.txt  My roommate won't shut up. O. K. Bert. My frie...   \n",
      "9  1999_741261.txt  I keep thinking about the future and how my li...   \n",
      "\n",
      "  token_len EXT NEU AGR CON OPN  \n",
      "0        43   1   0   1   1   1  \n",
      "1        51   1   0   1   0   1  \n",
      "2        68   0   1   1   1   1  \n",
      "3       117   0   0   1   1   1  \n",
      "4       132   0   1   0   1   0  \n",
      "5       167   1   0   1   0   0  \n",
      "6       171   0   1   0   0   1  \n",
      "7       173   1   1   1   1   0  \n",
      "8       181   1   0   1   1   1  \n",
      "9       182   0   1   0   0   0  \n"
     ]
    }
   ],
   "source": [
    "# Load the dataset and pre-process\n",
    "datafile = \"data/essays/essays.csv\"\n",
    "dataset = dataset_processors.load_essays_df(datafile)\n",
    "\n",
    "# sorting all essays in ascending order of their length\n",
    "for ind in dataset.index:\n",
    "    tokens = tokenizer.tokenize(dataset[\"text\"][ind])\n",
    "    dataset.at[ind, \"token_len\"] = len(tokens)\n",
    "\n",
    "dataset.sort_values(by=[\"token_len\", \"user\"], inplace=True, ascending=True, ignore_index=True)\n",
    "print(dataset.head(10))"
   ]
  },
  {
   "cell_type": "code",
   "execution_count": 14,
   "id": "e81a9e42-a060-4967-aa01-87124f3e9400",
   "metadata": {},
   "outputs": [
    {
     "data": {
      "text/html": [
       "<div>\n",
       "<style scoped>\n",
       "    .dataframe tbody tr th:only-of-type {\n",
       "        vertical-align: middle;\n",
       "    }\n",
       "\n",
       "    .dataframe tbody tr th {\n",
       "        vertical-align: top;\n",
       "    }\n",
       "\n",
       "    .dataframe thead th {\n",
       "        text-align: right;\n",
       "    }\n",
       "</style>\n",
       "<table border=\"1\" class=\"dataframe\">\n",
       "  <thead>\n",
       "    <tr style=\"text-align: right;\">\n",
       "      <th></th>\n",
       "      <th>user</th>\n",
       "      <th>text</th>\n",
       "      <th>token_len</th>\n",
       "      <th>EXT</th>\n",
       "      <th>NEU</th>\n",
       "      <th>AGR</th>\n",
       "      <th>CON</th>\n",
       "      <th>OPN</th>\n",
       "    </tr>\n",
       "  </thead>\n",
       "  <tbody>\n",
       "    <tr>\n",
       "      <th>5</th>\n",
       "      <td>2002_805223.txt</td>\n",
       "      <td>cold air quietness stress sad unreal comp...</td>\n",
       "      <td>167</td>\n",
       "      <td>1</td>\n",
       "      <td>0</td>\n",
       "      <td>1</td>\n",
       "      <td>0</td>\n",
       "      <td>0</td>\n",
       "    </tr>\n",
       "  </tbody>\n",
       "</table>\n",
       "</div>"
      ],
      "text/plain": [
       "              user                                               text  \\\n",
       "5  2002_805223.txt       cold air quietness stress sad unreal comp...   \n",
       "\n",
       "  token_len EXT NEU AGR CON OPN  \n",
       "5       167   1   0   1   0   0  "
      ]
     },
     "execution_count": 14,
     "metadata": {},
     "output_type": "execute_result"
    }
   ],
   "source": [
    "# Filter those less than 512 tokens\n",
    "filtered_dataset = dataset[dataset['token_len'] <= 512]\n",
    "num_rows = len(filtered_dataset)\n",
    "filtered_dataset.iloc[[5]]"
   ]
  },
  {
   "cell_type": "code",
   "execution_count": 17,
   "id": "8cb59892-f7d0-48ae-9ba2-18d128c8a8b0",
   "metadata": {},
   "outputs": [
    {
     "name": "stdout",
     "output_type": "stream",
     "text": [
      "Yesterday in class we talked about what different parts of the brain are in control with. One interesting part to me is the Occipital Lobe. Three years ago I was in a car accident, which I have fully recovered from, expect I have blurred vision in my right eye. Within a few months after the accident I went to many doctors to see what the problem was. One doctor concluded that my optic nerve had been jarred which can cause loss of eyesight. He said that after a year if my nerve turned white then that meant that this is what happened. He also said that I would never regain my eyesight in that eye. Now that it's three years later, there is still no sign that my optic nerve was injured and my eyesight has gradually come back but it is a very slow process. Another doctor could not reach a conclusion but he figured that it might have something to do with my brain. He told me that you could never tell if the brain can overcome such a catastrophe but the brain can do miraculous things. Sometimes during the semester I may come in a see what you think it could be because no one else seems to come to a conclusion matching another professional's opinion. I do not know if such a thing could happen to the occipital lobe so I would like to come in and see if just part of your eyesight can be affected if this lobe has damage done to it. \n"
     ]
    },
    {
     "data": {
      "text/html": [
       "<div>\n",
       "<style scoped>\n",
       "    .dataframe tbody tr th:only-of-type {\n",
       "        vertical-align: middle;\n",
       "    }\n",
       "\n",
       "    .dataframe tbody tr th {\n",
       "        vertical-align: top;\n",
       "    }\n",
       "\n",
       "    .dataframe thead th {\n",
       "        text-align: right;\n",
       "    }\n",
       "</style>\n",
       "<table border=\"1\" class=\"dataframe\">\n",
       "  <thead>\n",
       "    <tr style=\"text-align: right;\">\n",
       "      <th></th>\n",
       "      <th>user</th>\n",
       "      <th>text</th>\n",
       "      <th>token_len</th>\n",
       "      <th>EXT</th>\n",
       "      <th>NEU</th>\n",
       "      <th>AGR</th>\n",
       "      <th>CON</th>\n",
       "      <th>OPN</th>\n",
       "    </tr>\n",
       "  </thead>\n",
       "  <tbody>\n",
       "    <tr>\n",
       "      <th>65</th>\n",
       "      <td>2000_535643.txt</td>\n",
       "      <td>Yesterday in class we talked about what differ...</td>\n",
       "      <td>289</td>\n",
       "      <td>0</td>\n",
       "      <td>0</td>\n",
       "      <td>0</td>\n",
       "      <td>1</td>\n",
       "      <td>0</td>\n",
       "    </tr>\n",
       "  </tbody>\n",
       "</table>\n",
       "</div>"
      ],
      "text/plain": [
       "               user                                               text  \\\n",
       "65  2000_535643.txt  Yesterday in class we talked about what differ...   \n",
       "\n",
       "   token_len EXT NEU AGR CON OPN  \n",
       "65       289   0   0   0   1   0  "
      ]
     },
     "execution_count": 17,
     "metadata": {},
     "output_type": "execute_result"
    }
   ],
   "source": [
    "rand_num = randrange(num_rows)\n",
    "text = filtered_dataset['text'][rand_num]\n",
    "print(text)\n",
    "filtered_dataset.iloc[[rand_num]]"
   ]
  },
  {
   "cell_type": "code",
   "execution_count": null,
   "id": "7ae6a4c5-34cb-49a2-a1ed-66060b37e1bc",
   "metadata": {},
   "outputs": [],
   "source": []
  },
  {
   "cell_type": "code",
   "execution_count": null,
   "id": "5429c822-175a-4e2a-ac38-c7d9bd4f377b",
   "metadata": {},
   "outputs": [],
   "source": []
  },
  {
   "cell_type": "code",
   "execution_count": null,
   "id": "a02721cf-5842-4c99-a661-0f6869717e9b",
   "metadata": {},
   "outputs": [],
   "source": []
  },
  {
   "cell_type": "markdown",
   "id": "80cf2c43-9d0c-4b5b-9849-e7312231d664",
   "metadata": {},
   "source": [
    "# DailyDialog\n",
    "\n",
    "- Load the dataset\n",
    "- Pick conversation, then utterance\n",
    "- Pre-process and guess"
   ]
  },
  {
   "cell_type": "code",
   "execution_count": null,
   "id": "1af79484-2e11-48f7-8588-baf5ece52bd9",
   "metadata": {},
   "outputs": [],
   "source": []
  }
 ],
 "metadata": {
  "kernelspec": {
   "display_name": "Python 3 (ipykernel)",
   "language": "python",
   "name": "python3"
  },
  "language_info": {
   "codemirror_mode": {
    "name": "ipython",
    "version": 3
   },
   "file_extension": ".py",
   "mimetype": "text/x-python",
   "name": "python",
   "nbconvert_exporter": "python",
   "pygments_lexer": "ipython3",
   "version": "3.9.18"
  }
 },
 "nbformat": 4,
 "nbformat_minor": 5
}
