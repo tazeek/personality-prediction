{
 "cells": [
  {
   "cell_type": "code",
   "execution_count": 1,
   "id": "db878dec-2a72-43c1-9b4a-ad19e52ebd86",
   "metadata": {},
   "outputs": [],
   "source": [
    "from lime.lime_text import LimeTextExplainer\n",
    "\n",
    "from transformers import AutoTokenizer, AutoModelForSequenceClassification, AutoConfig\n",
    "from sota_list import *"
   ]
  },
  {
   "cell_type": "code",
   "execution_count": 2,
   "id": "83787f14-212d-4a35-9e60-a21935172b55",
   "metadata": {},
   "outputs": [],
   "source": [
    "# Load the finetuned BERT model\n",
    "\n",
    "config = AutoConfig.from_pretrained('fine-tuned-bert-personality-sentence-segmentation', output_hidden_states =True)\n",
    "model = AutoModelForSequenceClassification.from_pretrained('fine-tuned-bert-personality-sentence-segmentation', config=config)\n",
    "tokenizer = AutoTokenizer.from_pretrained('fine-tuned-bert-personality-sentence-segmentation')"
   ]
  },
  {
   "cell_type": "code",
   "execution_count": 3,
   "id": "c72adb9e-8f65-43cc-8d67-895d9cf04af6",
   "metadata": {},
   "outputs": [
    {
     "name": "stdout",
     "output_type": "stream",
     "text": [
      "LSTMNetwork(\n",
      "  (lstm): LSTM(768, 128, batch_first=True)\n",
      "  (fc): Linear(in_features=128, out_features=5, bias=True)\n",
      ")\n"
     ]
    }
   ],
   "source": [
    "# Load the trained LSTM model\n",
    "model_type = 'lstm'\n",
    "train_type = 'segmented'\n",
    "file_name = f\"finetuned_saved_models/{model_type}_{train_type}.pth\"\n",
    "\n",
    "model = LSTMNetwork(768,128,5)\n",
    "model.load_state_dict(torch.load(f\"{file_name}\"))\n",
    "print(model)"
   ]
  },
  {
   "cell_type": "code",
   "execution_count": null,
   "id": "851e8818-a52e-482d-ab05-f7265c7ee3c3",
   "metadata": {},
   "outputs": [],
   "source": []
  },
  {
   "cell_type": "markdown",
   "id": "8bd2de82-c853-4555-a26d-0cceee5c2b14",
   "metadata": {},
   "source": [
    "# Essays\n",
    "\n",
    "- Pick the ones with less than 512 tokens\n",
    "- Check the gold labels\n",
    "- Check the predicted labels\n",
    "- Visualize"
   ]
  },
  {
   "cell_type": "code",
   "execution_count": null,
   "id": "97ef3049-db78-4fa1-ad49-2e0af1494011",
   "metadata": {},
   "outputs": [],
   "source": []
  },
  {
   "cell_type": "code",
   "execution_count": null,
   "id": "e81a9e42-a060-4967-aa01-87124f3e9400",
   "metadata": {},
   "outputs": [],
   "source": []
  },
  {
   "cell_type": "code",
   "execution_count": null,
   "id": "8cb59892-f7d0-48ae-9ba2-18d128c8a8b0",
   "metadata": {},
   "outputs": [],
   "source": []
  },
  {
   "cell_type": "code",
   "execution_count": null,
   "id": "7ae6a4c5-34cb-49a2-a1ed-66060b37e1bc",
   "metadata": {},
   "outputs": [],
   "source": []
  },
  {
   "cell_type": "code",
   "execution_count": null,
   "id": "5429c822-175a-4e2a-ac38-c7d9bd4f377b",
   "metadata": {},
   "outputs": [],
   "source": []
  },
  {
   "cell_type": "code",
   "execution_count": null,
   "id": "a02721cf-5842-4c99-a661-0f6869717e9b",
   "metadata": {},
   "outputs": [],
   "source": []
  },
  {
   "cell_type": "markdown",
   "id": "80cf2c43-9d0c-4b5b-9849-e7312231d664",
   "metadata": {},
   "source": [
    "# DailyDialog\n",
    "\n",
    "- Load the dataset\n",
    "- Pick conversation, then utterance\n",
    "- Pre-process and guess"
   ]
  },
  {
   "cell_type": "code",
   "execution_count": null,
   "id": "1af79484-2e11-48f7-8588-baf5ece52bd9",
   "metadata": {},
   "outputs": [],
   "source": []
  }
 ],
 "metadata": {
  "kernelspec": {
   "display_name": "Python 3 (ipykernel)",
   "language": "python",
   "name": "python3"
  },
  "language_info": {
   "codemirror_mode": {
    "name": "ipython",
    "version": 3
   },
   "file_extension": ".py",
   "mimetype": "text/x-python",
   "name": "python",
   "nbconvert_exporter": "python",
   "pygments_lexer": "ipython3",
   "version": "3.9.18"
  }
 },
 "nbformat": 4,
 "nbformat_minor": 5
}
